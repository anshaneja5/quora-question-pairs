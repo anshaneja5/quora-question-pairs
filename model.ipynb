{
 "cells": [
  {
   "cell_type": "code",
   "execution_count": 1,
   "id": "a9e3b5c6",
   "metadata": {},
   "outputs": [],
   "source": [
    "import numpy as np\n",
    "import pandas as pd\n",
    "import matplotlib.pyplot as plt\n",
    "import seaborn as sns\n",
    "\n",
    "import warnings\n",
    "warnings.filterwarnings('ignore')"
   ]
  },
  {
   "cell_type": "code",
   "execution_count": 53,
   "id": "2bf7a14b",
   "metadata": {},
   "outputs": [],
   "source": [
    "df = pd.read_csv('questions.csv')"
   ]
  },
  {
   "cell_type": "code",
   "execution_count": 54,
   "id": "cc36984b",
   "metadata": {},
   "outputs": [
    {
     "data": {
      "text/plain": [
       "(404351, 6)"
      ]
     },
     "execution_count": 54,
     "metadata": {},
     "output_type": "execute_result"
    }
   ],
   "source": [
    "df.shape"
   ]
  },
  {
   "cell_type": "code",
   "execution_count": 55,
   "id": "fbbaf6ba",
   "metadata": {},
   "outputs": [
    {
     "data": {
      "text/html": [
       "<div>\n",
       "<style scoped>\n",
       "    .dataframe tbody tr th:only-of-type {\n",
       "        vertical-align: middle;\n",
       "    }\n",
       "\n",
       "    .dataframe tbody tr th {\n",
       "        vertical-align: top;\n",
       "    }\n",
       "\n",
       "    .dataframe thead th {\n",
       "        text-align: right;\n",
       "    }\n",
       "</style>\n",
       "<table border=\"1\" class=\"dataframe\">\n",
       "  <thead>\n",
       "    <tr style=\"text-align: right;\">\n",
       "      <th></th>\n",
       "      <th>id</th>\n",
       "      <th>qid1</th>\n",
       "      <th>qid2</th>\n",
       "      <th>question1</th>\n",
       "      <th>question2</th>\n",
       "      <th>is_duplicate</th>\n",
       "    </tr>\n",
       "  </thead>\n",
       "  <tbody>\n",
       "    <tr>\n",
       "      <th>0</th>\n",
       "      <td>0</td>\n",
       "      <td>1</td>\n",
       "      <td>2</td>\n",
       "      <td>What is the step by step guide to invest in sh...</td>\n",
       "      <td>What is the step by step guide to invest in sh...</td>\n",
       "      <td>0</td>\n",
       "    </tr>\n",
       "    <tr>\n",
       "      <th>1</th>\n",
       "      <td>1</td>\n",
       "      <td>3</td>\n",
       "      <td>4</td>\n",
       "      <td>What is the story of Kohinoor (Koh-i-Noor) Dia...</td>\n",
       "      <td>What would happen if the Indian government sto...</td>\n",
       "      <td>0</td>\n",
       "    </tr>\n",
       "    <tr>\n",
       "      <th>2</th>\n",
       "      <td>2</td>\n",
       "      <td>5</td>\n",
       "      <td>6</td>\n",
       "      <td>How can I increase the speed of my internet co...</td>\n",
       "      <td>How can Internet speed be increased by hacking...</td>\n",
       "      <td>0</td>\n",
       "    </tr>\n",
       "    <tr>\n",
       "      <th>3</th>\n",
       "      <td>3</td>\n",
       "      <td>7</td>\n",
       "      <td>8</td>\n",
       "      <td>Why am I mentally very lonely? How can I solve...</td>\n",
       "      <td>Find the remainder when [math]23^{24}[/math] i...</td>\n",
       "      <td>0</td>\n",
       "    </tr>\n",
       "    <tr>\n",
       "      <th>4</th>\n",
       "      <td>4</td>\n",
       "      <td>9</td>\n",
       "      <td>10</td>\n",
       "      <td>Which one dissolve in water quikly sugar, salt...</td>\n",
       "      <td>Which fish would survive in salt water?</td>\n",
       "      <td>0</td>\n",
       "    </tr>\n",
       "  </tbody>\n",
       "</table>\n",
       "</div>"
      ],
      "text/plain": [
       "   id  qid1  qid2                                          question1  \\\n",
       "0   0     1     2  What is the step by step guide to invest in sh...   \n",
       "1   1     3     4  What is the story of Kohinoor (Koh-i-Noor) Dia...   \n",
       "2   2     5     6  How can I increase the speed of my internet co...   \n",
       "3   3     7     8  Why am I mentally very lonely? How can I solve...   \n",
       "4   4     9    10  Which one dissolve in water quikly sugar, salt...   \n",
       "\n",
       "                                           question2  is_duplicate  \n",
       "0  What is the step by step guide to invest in sh...             0  \n",
       "1  What would happen if the Indian government sto...             0  \n",
       "2  How can Internet speed be increased by hacking...             0  \n",
       "3  Find the remainder when [math]23^{24}[/math] i...             0  \n",
       "4            Which fish would survive in salt water?             0  "
      ]
     },
     "execution_count": 55,
     "metadata": {},
     "output_type": "execute_result"
    }
   ],
   "source": [
    "df.head()"
   ]
  },
  {
   "cell_type": "code",
   "execution_count": 60,
   "id": "90634f4b",
   "metadata": {},
   "outputs": [],
   "source": [
    "new_df = df.sample(100000,random_state=3)"
   ]
  },
  {
   "cell_type": "code",
   "execution_count": 65,
   "id": "8d6a6a42",
   "metadata": {},
   "outputs": [
    {
     "data": {
      "text/plain": [
       "id              0\n",
       "qid1            0\n",
       "qid2            0\n",
       "question1       0\n",
       "question2       0\n",
       "is_duplicate    0\n",
       "dtype: int64"
      ]
     },
     "execution_count": 65,
     "metadata": {},
     "output_type": "execute_result"
    }
   ],
   "source": [
    "new_df.isnull().sum()"
   ]
  },
  {
   "cell_type": "code",
   "execution_count": 62,
   "id": "1d931f5b",
   "metadata": {},
   "outputs": [
    {
     "data": {
      "text/html": [
       "<div>\n",
       "<style scoped>\n",
       "    .dataframe tbody tr th:only-of-type {\n",
       "        vertical-align: middle;\n",
       "    }\n",
       "\n",
       "    .dataframe tbody tr th {\n",
       "        vertical-align: top;\n",
       "    }\n",
       "\n",
       "    .dataframe thead th {\n",
       "        text-align: right;\n",
       "    }\n",
       "</style>\n",
       "<table border=\"1\" class=\"dataframe\">\n",
       "  <thead>\n",
       "    <tr style=\"text-align: right;\">\n",
       "      <th></th>\n",
       "      <th>id</th>\n",
       "      <th>qid1</th>\n",
       "      <th>qid2</th>\n",
       "      <th>question1</th>\n",
       "      <th>question2</th>\n",
       "      <th>is_duplicate</th>\n",
       "    </tr>\n",
       "  </thead>\n",
       "  <tbody>\n",
       "    <tr>\n",
       "      <th>316514</th>\n",
       "      <td>316514</td>\n",
       "      <td>621099</td>\n",
       "      <td>621100</td>\n",
       "      <td>How do you decide what career is best for you?</td>\n",
       "      <td>What is the best way to find a career which su...</td>\n",
       "      <td>1</td>\n",
       "    </tr>\n",
       "    <tr>\n",
       "      <th>93351</th>\n",
       "      <td>93351</td>\n",
       "      <td>185328</td>\n",
       "      <td>185329</td>\n",
       "      <td>How can I improve my English in all aspects?</td>\n",
       "      <td>How can I improve my English speaking .?</td>\n",
       "      <td>1</td>\n",
       "    </tr>\n",
       "    <tr>\n",
       "      <th>85118</th>\n",
       "      <td>85118</td>\n",
       "      <td>169048</td>\n",
       "      <td>169049</td>\n",
       "      <td>Why is it that 1 litre of water weighs 1 kg wh...</td>\n",
       "      <td>If you drink 3 liters of water would you weigh...</td>\n",
       "      <td>0</td>\n",
       "    </tr>\n",
       "    <tr>\n",
       "      <th>201278</th>\n",
       "      <td>201278</td>\n",
       "      <td>397188</td>\n",
       "      <td>397189</td>\n",
       "      <td>Why didn't Native Americans make alcohol?</td>\n",
       "      <td>Why didn't the Japanese develop a deep-seated ...</td>\n",
       "      <td>0</td>\n",
       "    </tr>\n",
       "    <tr>\n",
       "      <th>323685</th>\n",
       "      <td>323685</td>\n",
       "      <td>634952</td>\n",
       "      <td>634953</td>\n",
       "      <td>I have an unopened bottle of vodka in the free...</td>\n",
       "      <td>Can an open bottle of vodka get spoiled? It is...</td>\n",
       "      <td>0</td>\n",
       "    </tr>\n",
       "  </tbody>\n",
       "</table>\n",
       "</div>"
      ],
      "text/plain": [
       "            id    qid1    qid2  \\\n",
       "316514  316514  621099  621100   \n",
       "93351    93351  185328  185329   \n",
       "85118    85118  169048  169049   \n",
       "201278  201278  397188  397189   \n",
       "323685  323685  634952  634953   \n",
       "\n",
       "                                                question1  \\\n",
       "316514     How do you decide what career is best for you?   \n",
       "93351        How can I improve my English in all aspects?   \n",
       "85118   Why is it that 1 litre of water weighs 1 kg wh...   \n",
       "201278          Why didn't Native Americans make alcohol?   \n",
       "323685  I have an unopened bottle of vodka in the free...   \n",
       "\n",
       "                                                question2  is_duplicate  \n",
       "316514  What is the best way to find a career which su...             1  \n",
       "93351            How can I improve my English speaking .?             1  \n",
       "85118   If you drink 3 liters of water would you weigh...             0  \n",
       "201278  Why didn't the Japanese develop a deep-seated ...             0  \n",
       "323685  Can an open bottle of vodka get spoiled? It is...             0  "
      ]
     },
     "execution_count": 62,
     "metadata": {},
     "output_type": "execute_result"
    }
   ],
   "source": [
    "new_df.head()"
   ]
  },
  {
   "cell_type": "code",
   "execution_count": 63,
   "id": "c4c27d8f",
   "metadata": {},
   "outputs": [
    {
     "data": {
      "text/plain": [
       "0"
      ]
     },
     "execution_count": 63,
     "metadata": {},
     "output_type": "execute_result"
    }
   ],
   "source": [
    "new_df.duplicated().sum()"
   ]
  },
  {
   "cell_type": "code",
   "execution_count": 64,
   "id": "3dda2562",
   "metadata": {},
   "outputs": [],
   "source": [
    "# remove null values\n",
    "new_df.dropna(inplace=True)"
   ]
  },
  {
   "cell_type": "code",
   "execution_count": 66,
   "id": "b7863cea",
   "metadata": {},
   "outputs": [
    {
     "name": "stdout",
     "output_type": "stream",
     "text": [
      "is_duplicate\n",
      "0    63333\n",
      "1    36666\n",
      "Name: count, dtype: int64\n",
      "is_duplicate\n",
      "0    63.333633\n",
      "1    36.666367\n",
      "Name: count, dtype: float64\n"
     ]
    },
    {
     "data": {
      "text/plain": [
       "<Axes: xlabel='is_duplicate'>"
      ]
     },
     "execution_count": 66,
     "metadata": {},
     "output_type": "execute_result"
    },
    {
     "data": {
      "image/png": "[encoded data removed]",
      "text/plain": [
       "<Figure size 640x480 with 1 Axes>"
      ]
     },
     "metadata": {},
     "output_type": "display_data"
    }
   ],
   "source": [
    "# Distribution of duplicate and non-duplicate questions\n",
    "\n",
    "print(new_df['is_duplicate'].value_counts())\n",
    "print((new_df['is_duplicate'].value_counts()/new_df['is_duplicate'].count())*100)\n",
    "new_df['is_duplicate'].value_counts().plot(kind='bar')"
   ]
  },
  {
   "cell_type": "code",
   "execution_count": 67,
   "id": "691d9143",
   "metadata": {},
   "outputs": [
    {
     "name": "stdout",
     "output_type": "stream",
     "text": [
      "Number of unique questions 198384\n",
      "Number of questions getting repeated 1295\n"
     ]
    }
   ],
   "source": [
    "# Repeated questions\n",
    "\n",
    "qid = pd.Series(new_df['qid1'].tolist() + new_df['qid2'].tolist())\n",
    "print('Number of unique questions',np.unique(qid).shape[0])\n",
    "x = qid.value_counts()>1\n",
    "print('Number of questions getting repeated',x[x].shape[0])"
   ]
  },
  {
   "cell_type": "code",
   "execution_count": 68,
   "id": "e314640d",
   "metadata": {},
   "outputs": [
    {
     "data": {
      "image/png": "[encoded data removed]",
      "text/plain": [
       "<Figure size 640x480 with 1 Axes>"
      ]
     },
     "metadata": {},
     "output_type": "display_data"
    }
   ],
   "source": [
    "# Repeated questions histogram\n",
    "\n",
    "plt.hist(qid.value_counts().values,bins=160)\n",
    "plt.yscale('log')\n",
    "plt.show()"
   ]
  },
  {
   "cell_type": "code",
   "execution_count": 69,
   "id": "dc38a62b",
   "metadata": {},
   "outputs": [],
   "source": [
    "# Feature Engineering\n",
    "\n",
    "new_df['q1_len'] = new_df['question1'].str.len() \n",
    "new_df['q2_len'] = new_df['question2'].str.len()"
   ]
  },
  {
   "cell_type": "code",
   "execution_count": 70,
   "id": "bfb29dcd",
   "metadata": {},
   "outputs": [
    {
     "data": {
      "text/html": [
       "<div>\n",
       "<style scoped>\n",
       "    .dataframe tbody tr th:only-of-type {\n",
       "        vertical-align: middle;\n",
       "    }\n",
       "\n",
       "    .dataframe tbody tr th {\n",
       "        vertical-align: top;\n",
       "    }\n",
       "\n",
       "    .dataframe thead th {\n",
       "        text-align: right;\n",
       "    }\n",
       "</style>\n",
       "<table border=\"1\" class=\"dataframe\">\n",
       "  <thead>\n",
       "    <tr style=\"text-align: right;\">\n",
       "      <th></th>\n",
       "      <th>id</th>\n",
       "      <th>qid1</th>\n",
       "      <th>qid2</th>\n",
       "      <th>question1</th>\n",
       "      <th>question2</th>\n",
       "      <th>is_duplicate</th>\n",
       "      <th>q1_len</th>\n",
       "      <th>q2_len</th>\n",
       "    </tr>\n",
       "  </thead>\n",
       "  <tbody>\n",
       "    <tr>\n",
       "      <th>316514</th>\n",
       "      <td>316514</td>\n",
       "      <td>621099</td>\n",
       "      <td>621100</td>\n",
       "      <td>How do you decide what career is best for you?</td>\n",
       "      <td>What is the best way to find a career which su...</td>\n",
       "      <td>1</td>\n",
       "      <td>46</td>\n",
       "      <td>53</td>\n",
       "    </tr>\n",
       "    <tr>\n",
       "      <th>93351</th>\n",
       "      <td>93351</td>\n",
       "      <td>185328</td>\n",
       "      <td>185329</td>\n",
       "      <td>How can I improve my English in all aspects?</td>\n",
       "      <td>How can I improve my English speaking .?</td>\n",
       "      <td>1</td>\n",
       "      <td>44</td>\n",
       "      <td>40</td>\n",
       "    </tr>\n",
       "    <tr>\n",
       "      <th>85118</th>\n",
       "      <td>85118</td>\n",
       "      <td>169048</td>\n",
       "      <td>169049</td>\n",
       "      <td>Why is it that 1 litre of water weighs 1 kg wh...</td>\n",
       "      <td>If you drink 3 liters of water would you weigh...</td>\n",
       "      <td>0</td>\n",
       "      <td>87</td>\n",
       "      <td>57</td>\n",
       "    </tr>\n",
       "    <tr>\n",
       "      <th>201278</th>\n",
       "      <td>201278</td>\n",
       "      <td>397188</td>\n",
       "      <td>397189</td>\n",
       "      <td>Why didn't Native Americans make alcohol?</td>\n",
       "      <td>Why didn't the Japanese develop a deep-seated ...</td>\n",
       "      <td>0</td>\n",
       "      <td>41</td>\n",
       "      <td>123</td>\n",
       "    </tr>\n",
       "    <tr>\n",
       "      <th>323685</th>\n",
       "      <td>323685</td>\n",
       "      <td>634952</td>\n",
       "      <td>634953</td>\n",
       "      <td>I have an unopened bottle of vodka in the free...</td>\n",
       "      <td>Can an open bottle of vodka get spoiled? It is...</td>\n",
       "      <td>0</td>\n",
       "      <td>94</td>\n",
       "      <td>80</td>\n",
       "    </tr>\n",
       "    <tr>\n",
       "      <th>...</th>\n",
       "      <td>...</td>\n",
       "      <td>...</td>\n",
       "      <td>...</td>\n",
       "      <td>...</td>\n",
       "      <td>...</td>\n",
       "      <td>...</td>\n",
       "      <td>...</td>\n",
       "      <td>...</td>\n",
       "    </tr>\n",
       "    <tr>\n",
       "      <th>311596</th>\n",
       "      <td>311596</td>\n",
       "      <td>611633</td>\n",
       "      <td>611634</td>\n",
       "      <td>What do Russians think about the ban of Russia...</td>\n",
       "      <td>What do Russians think about the Rio ban?</td>\n",
       "      <td>1</td>\n",
       "      <td>84</td>\n",
       "      <td>41</td>\n",
       "    </tr>\n",
       "    <tr>\n",
       "      <th>152965</th>\n",
       "      <td>152965</td>\n",
       "      <td>302555</td>\n",
       "      <td>302556</td>\n",
       "      <td>How do founders deal with student loans and ot...</td>\n",
       "      <td>How many Y Combinator or TechStars companies h...</td>\n",
       "      <td>0</td>\n",
       "      <td>62</td>\n",
       "      <td>98</td>\n",
       "    </tr>\n",
       "    <tr>\n",
       "      <th>240483</th>\n",
       "      <td>240483</td>\n",
       "      <td>473687</td>\n",
       "      <td>473688</td>\n",
       "      <td>Why do so may people ask questions on Quora th...</td>\n",
       "      <td>Why do some people use Quora when a dictionary...</td>\n",
       "      <td>1</td>\n",
       "      <td>94</td>\n",
       "      <td>79</td>\n",
       "    </tr>\n",
       "    <tr>\n",
       "      <th>90934</th>\n",
       "      <td>90934</td>\n",
       "      <td>180550</td>\n",
       "      <td>180551</td>\n",
       "      <td>How does it feel for a guy to fall in love?</td>\n",
       "      <td>What it is like for a guy to fall in love with...</td>\n",
       "      <td>1</td>\n",
       "      <td>43</td>\n",
       "      <td>54</td>\n",
       "    </tr>\n",
       "    <tr>\n",
       "      <th>259280</th>\n",
       "      <td>259280</td>\n",
       "      <td>510280</td>\n",
       "      <td>510281</td>\n",
       "      <td>Which companies use Mixpanel?</td>\n",
       "      <td>What are some companies that use Mixpanel?</td>\n",
       "      <td>1</td>\n",
       "      <td>29</td>\n",
       "      <td>42</td>\n",
       "    </tr>\n",
       "  </tbody>\n",
       "</table>\n",
       "<p>99999 rows × 8 columns</p>\n",
       "</div>"
      ],
      "text/plain": [
       "            id    qid1    qid2  \\\n",
       "316514  316514  621099  621100   \n",
       "93351    93351  185328  185329   \n",
       "85118    85118  169048  169049   \n",
       "201278  201278  397188  397189   \n",
       "323685  323685  634952  634953   \n",
       "...        ...     ...     ...   \n",
       "311596  311596  611633  611634   \n",
       "152965  152965  302555  302556   \n",
       "240483  240483  473687  473688   \n",
       "90934    90934  180550  180551   \n",
       "259280  259280  510280  510281   \n",
       "\n",
       "                                                question1  \\\n",
       "316514     How do you decide what career is best for you?   \n",
       "93351        How can I improve my English in all aspects?   \n",
       "85118   Why is it that 1 litre of water weighs 1 kg wh...   \n",
       "201278          Why didn't Native Americans make alcohol?   \n",
       "323685  I have an unopened bottle of vodka in the free...   \n",
       "...                                                   ...   \n",
       "311596  What do Russians think about the ban of Russia...   \n",
       "152965  How do founders deal with student loans and ot...   \n",
       "240483  Why do so may people ask questions on Quora th...   \n",
       "90934         How does it feel for a guy to fall in love?   \n",
       "259280                      Which companies use Mixpanel?   \n",
       "\n",
       "                                                question2  is_duplicate  \\\n",
       "316514  What is the best way to find a career which su...             1   \n",
       "93351            How can I improve my English speaking .?             1   \n",
       "85118   If you drink 3 liters of water would you weigh...             0   \n",
       "201278  Why didn't the Japanese develop a deep-seated ...             0   \n",
       "323685  Can an open bottle of vodka get spoiled? It is...             0   \n",
       "...                                                   ...           ...   \n",
       "311596          What do Russians think about the Rio ban?             1   \n",
       "152965  How many Y Combinator or TechStars companies h...             0   \n",
       "240483  Why do some people use Quora when a dictionary...             1   \n",
       "90934   What it is like for a guy to fall in love with...             1   \n",
       "259280         What are some companies that use Mixpanel?             1   \n",
       "\n",
       "        q1_len  q2_len  \n",
       "316514      46      53  \n",
       "93351       44      40  \n",
       "85118       87      57  \n",
       "201278      41     123  \n",
       "323685      94      80  \n",
       "...        ...     ...  \n",
       "311596      84      41  \n",
       "152965      62      98  \n",
       "240483      94      79  \n",
       "90934       43      54  \n",
       "259280      29      42  \n",
       "\n",
       "[99999 rows x 8 columns]"
      ]
     },
     "execution_count": 70,
     "metadata": {},
     "output_type": "execute_result"
    }
   ],
   "source": [
    "new_df"
   ]
  },
  {
   "cell_type": "code",
   "execution_count": 71,
   "id": "df3727a6",
   "metadata": {},
   "outputs": [
    {
     "data": {
      "text/html": [
       "<div>\n",
       "<style scoped>\n",
       "    .dataframe tbody tr th:only-of-type {\n",
       "        vertical-align: middle;\n",
       "    }\n",
       "\n",
       "    .dataframe tbody tr th {\n",
       "        vertical-align: top;\n",
       "    }\n",
       "\n",
       "    .dataframe thead th {\n",
       "        text-align: right;\n",
       "    }\n",
       "</style>\n",
       "<table border=\"1\" class=\"dataframe\">\n",
       "  <thead>\n",
       "    <tr style=\"text-align: right;\">\n",
       "      <th></th>\n",
       "      <th>id</th>\n",
       "      <th>qid1</th>\n",
       "      <th>qid2</th>\n",
       "      <th>question1</th>\n",
       "      <th>question2</th>\n",
       "      <th>is_duplicate</th>\n",
       "      <th>q1_len</th>\n",
       "      <th>q2_len</th>\n",
       "      <th>q1_num_words</th>\n",
       "      <th>q2_num_words</th>\n",
       "    </tr>\n",
       "  </thead>\n",
       "  <tbody>\n",
       "    <tr>\n",
       "      <th>316514</th>\n",
       "      <td>316514</td>\n",
       "      <td>621099</td>\n",
       "      <td>621100</td>\n",
       "      <td>How do you decide what career is best for you?</td>\n",
       "      <td>What is the best way to find a career which su...</td>\n",
       "      <td>1</td>\n",
       "      <td>46</td>\n",
       "      <td>53</td>\n",
       "      <td>10</td>\n",
       "      <td>12</td>\n",
       "    </tr>\n",
       "    <tr>\n",
       "      <th>93351</th>\n",
       "      <td>93351</td>\n",
       "      <td>185328</td>\n",
       "      <td>185329</td>\n",
       "      <td>How can I improve my English in all aspects?</td>\n",
       "      <td>How can I improve my English speaking .?</td>\n",
       "      <td>1</td>\n",
       "      <td>44</td>\n",
       "      <td>40</td>\n",
       "      <td>9</td>\n",
       "      <td>8</td>\n",
       "    </tr>\n",
       "    <tr>\n",
       "      <th>85118</th>\n",
       "      <td>85118</td>\n",
       "      <td>169048</td>\n",
       "      <td>169049</td>\n",
       "      <td>Why is it that 1 litre of water weighs 1 kg wh...</td>\n",
       "      <td>If you drink 3 liters of water would you weigh...</td>\n",
       "      <td>0</td>\n",
       "      <td>87</td>\n",
       "      <td>57</td>\n",
       "      <td>18</td>\n",
       "      <td>13</td>\n",
       "    </tr>\n",
       "    <tr>\n",
       "      <th>201278</th>\n",
       "      <td>201278</td>\n",
       "      <td>397188</td>\n",
       "      <td>397189</td>\n",
       "      <td>Why didn't Native Americans make alcohol?</td>\n",
       "      <td>Why didn't the Japanese develop a deep-seated ...</td>\n",
       "      <td>0</td>\n",
       "      <td>41</td>\n",
       "      <td>123</td>\n",
       "      <td>6</td>\n",
       "      <td>18</td>\n",
       "    </tr>\n",
       "    <tr>\n",
       "      <th>323685</th>\n",
       "      <td>323685</td>\n",
       "      <td>634952</td>\n",
       "      <td>634953</td>\n",
       "      <td>I have an unopened bottle of vodka in the free...</td>\n",
       "      <td>Can an open bottle of vodka get spoiled? It is...</td>\n",
       "      <td>0</td>\n",
       "      <td>94</td>\n",
       "      <td>80</td>\n",
       "      <td>18</td>\n",
       "      <td>18</td>\n",
       "    </tr>\n",
       "  </tbody>\n",
       "</table>\n",
       "</div>"
      ],
      "text/plain": [
       "            id    qid1    qid2  \\\n",
       "316514  316514  621099  621100   \n",
       "93351    93351  185328  185329   \n",
       "85118    85118  169048  169049   \n",
       "201278  201278  397188  397189   \n",
       "323685  323685  634952  634953   \n",
       "\n",
       "                                                question1  \\\n",
       "316514     How do you decide what career is best for you?   \n",
       "93351        How can I improve my English in all aspects?   \n",
       "85118   Why is it that 1 litre of water weighs 1 kg wh...   \n",
       "201278          Why didn't Native Americans make alcohol?   \n",
       "323685  I have an unopened bottle of vodka in the free...   \n",
       "\n",
       "                                                question2  is_duplicate  \\\n",
       "316514  What is the best way to find a career which su...             1   \n",
       "93351            How can I improve my English speaking .?             1   \n",
       "85118   If you drink 3 liters of water would you weigh...             0   \n",
       "201278  Why didn't the Japanese develop a deep-seated ...             0   \n",
       "323685  Can an open bottle of vodka get spoiled? It is...             0   \n",
       "\n",
       "        q1_len  q2_len  q1_num_words  q2_num_words  \n",
       "316514      46      53            10            12  \n",
       "93351       44      40             9             8  \n",
       "85118       87      57            18            13  \n",
       "201278      41     123             6            18  \n",
       "323685      94      80            18            18  "
      ]
     },
     "execution_count": 71,
     "metadata": {},
     "output_type": "execute_result"
    }
   ],
   "source": [
    "new_df['q1_num_words'] = new_df['question1'].apply(lambda row: len(row.split(\" \")))\n",
    "new_df['q2_num_words'] = new_df['question2'].apply(lambda row: len(row.split(\" \")))\n",
    "new_df.head()"
   ]
  },
  {
   "cell_type": "code",
   "execution_count": 72,
   "id": "193c460f",
   "metadata": {},
   "outputs": [],
   "source": [
    "def common_words(row):\n",
    "    w1 = set(map(lambda word: word.lower().strip(), row['question1'].split(\" \")))\n",
    "    w2 = set(map(lambda word: word.lower().strip(), row['question2'].split(\" \")))    \n",
    "    return len(w1 & w2)"
   ]
  },
  {
   "cell_type": "code",
   "execution_count": 73,
   "id": "47ea1118",
   "metadata": {},
   "outputs": [
    {
     "data": {
      "text/html": [
       "<div>\n",
       "<style scoped>\n",
       "    .dataframe tbody tr th:only-of-type {\n",
       "        vertical-align: middle;\n",
       "    }\n",
       "\n",
       "    .dataframe tbody tr th {\n",
       "        vertical-align: top;\n",
       "    }\n",
       "\n",
       "    .dataframe thead th {\n",
       "        text-align: right;\n",
       "    }\n",
       "</style>\n",
       "<table border=\"1\" class=\"dataframe\">\n",
       "  <thead>\n",
       "    <tr style=\"text-align: right;\">\n",
       "      <th></th>\n",
       "      <th>id</th>\n",
       "      <th>qid1</th>\n",
       "      <th>qid2</th>\n",
       "      <th>question1</th>\n",
       "      <th>question2</th>\n",
       "      <th>is_duplicate</th>\n",
       "      <th>q1_len</th>\n",
       "      <th>q2_len</th>\n",
       "      <th>q1_num_words</th>\n",
       "      <th>q2_num_words</th>\n",
       "      <th>word_common</th>\n",
       "    </tr>\n",
       "  </thead>\n",
       "  <tbody>\n",
       "    <tr>\n",
       "      <th>316514</th>\n",
       "      <td>316514</td>\n",
       "      <td>621099</td>\n",
       "      <td>621100</td>\n",
       "      <td>How do you decide what career is best for you?</td>\n",
       "      <td>What is the best way to find a career which su...</td>\n",
       "      <td>1</td>\n",
       "      <td>46</td>\n",
       "      <td>53</td>\n",
       "      <td>10</td>\n",
       "      <td>12</td>\n",
       "      <td>4</td>\n",
       "    </tr>\n",
       "    <tr>\n",
       "      <th>93351</th>\n",
       "      <td>93351</td>\n",
       "      <td>185328</td>\n",
       "      <td>185329</td>\n",
       "      <td>How can I improve my English in all aspects?</td>\n",
       "      <td>How can I improve my English speaking .?</td>\n",
       "      <td>1</td>\n",
       "      <td>44</td>\n",
       "      <td>40</td>\n",
       "      <td>9</td>\n",
       "      <td>8</td>\n",
       "      <td>6</td>\n",
       "    </tr>\n",
       "    <tr>\n",
       "      <th>85118</th>\n",
       "      <td>85118</td>\n",
       "      <td>169048</td>\n",
       "      <td>169049</td>\n",
       "      <td>Why is it that 1 litre of water weighs 1 kg wh...</td>\n",
       "      <td>If you drink 3 liters of water would you weigh...</td>\n",
       "      <td>0</td>\n",
       "      <td>87</td>\n",
       "      <td>57</td>\n",
       "      <td>18</td>\n",
       "      <td>13</td>\n",
       "      <td>3</td>\n",
       "    </tr>\n",
       "    <tr>\n",
       "      <th>201278</th>\n",
       "      <td>201278</td>\n",
       "      <td>397188</td>\n",
       "      <td>397189</td>\n",
       "      <td>Why didn't Native Americans make alcohol?</td>\n",
       "      <td>Why didn't the Japanese develop a deep-seated ...</td>\n",
       "      <td>0</td>\n",
       "      <td>41</td>\n",
       "      <td>123</td>\n",
       "      <td>6</td>\n",
       "      <td>18</td>\n",
       "      <td>3</td>\n",
       "    </tr>\n",
       "    <tr>\n",
       "      <th>323685</th>\n",
       "      <td>323685</td>\n",
       "      <td>634952</td>\n",
       "      <td>634953</td>\n",
       "      <td>I have an unopened bottle of vodka in the free...</td>\n",
       "      <td>Can an open bottle of vodka get spoiled? It is...</td>\n",
       "      <td>0</td>\n",
       "      <td>94</td>\n",
       "      <td>80</td>\n",
       "      <td>18</td>\n",
       "      <td>18</td>\n",
       "      <td>5</td>\n",
       "    </tr>\n",
       "  </tbody>\n",
       "</table>\n",
       "</div>"
      ],
      "text/plain": [
       "            id    qid1    qid2  \\\n",
       "316514  316514  621099  621100   \n",
       "93351    93351  185328  185329   \n",
       "85118    85118  169048  169049   \n",
       "201278  201278  397188  397189   \n",
       "323685  323685  634952  634953   \n",
       "\n",
       "                                                question1  \\\n",
       "316514     How do you decide what career is best for you?   \n",
       "93351        How can I improve my English in all aspects?   \n",
       "85118   Why is it that 1 litre of water weighs 1 kg wh...   \n",
       "201278          Why didn't Native Americans make alcohol?   \n",
       "323685  I have an unopened bottle of vodka in the free...   \n",
       "\n",
       "                                                question2  is_duplicate  \\\n",
       "316514  What is the best way to find a career which su...             1   \n",
       "93351            How can I improve my English speaking .?             1   \n",
       "85118   If you drink 3 liters of water would you weigh...             0   \n",
       "201278  Why didn't the Japanese develop a deep-seated ...             0   \n",
       "323685  Can an open bottle of vodka get spoiled? It is...             0   \n",
       "\n",
       "        q1_len  q2_len  q1_num_words  q2_num_words  word_common  \n",
       "316514      46      53            10            12            4  \n",
       "93351       44      40             9             8            6  \n",
       "85118       87      57            18            13            3  \n",
       "201278      41     123             6            18            3  \n",
       "323685      94      80            18            18            5  "
      ]
     },
     "execution_count": 73,
     "metadata": {},
     "output_type": "execute_result"
    }
   ],
   "source": [
    "new_df['word_common'] = new_df.apply(common_words, axis=1)\n",
    "new_df.head()"
   ]
  },
  {
   "cell_type": "code",
   "execution_count": 74,
   "id": "87729813",
   "metadata": {},
   "outputs": [],
   "source": [
    "def total_words(row):\n",
    "    w1 = set(map(lambda word: word.lower().strip(), row['question1'].split(\" \")))\n",
    "    w2 = set(map(lambda word: word.lower().strip(), row['question2'].split(\" \")))    \n",
    "    return (len(w1) + len(w2))"
   ]
  },
  {
   "cell_type": "code",
   "execution_count": 75,
   "id": "0f04346e",
   "metadata": {},
   "outputs": [
    {
     "data": {
      "text/html": [
       "<div>\n",
       "<style scoped>\n",
       "    .dataframe tbody tr th:only-of-type {\n",
       "        vertical-align: middle;\n",
       "    }\n",
       "\n",
       "    .dataframe tbody tr th {\n",
       "        vertical-align: top;\n",
       "    }\n",
       "\n",
       "    .dataframe thead th {\n",
       "        text-align: right;\n",
       "    }\n",
       "</style>\n",
       "<table border=\"1\" class=\"dataframe\">\n",
       "  <thead>\n",
       "    <tr style=\"text-align: right;\">\n",
       "      <th></th>\n",
       "      <th>id</th>\n",
       "      <th>qid1</th>\n",
       "      <th>qid2</th>\n",
       "      <th>question1</th>\n",
       "      <th>question2</th>\n",
       "      <th>is_duplicate</th>\n",
       "      <th>q1_len</th>\n",
       "      <th>q2_len</th>\n",
       "      <th>q1_num_words</th>\n",
       "      <th>q2_num_words</th>\n",
       "      <th>word_common</th>\n",
       "      <th>word_total</th>\n",
       "    </tr>\n",
       "  </thead>\n",
       "  <tbody>\n",
       "    <tr>\n",
       "      <th>316514</th>\n",
       "      <td>316514</td>\n",
       "      <td>621099</td>\n",
       "      <td>621100</td>\n",
       "      <td>How do you decide what career is best for you?</td>\n",
       "      <td>What is the best way to find a career which su...</td>\n",
       "      <td>1</td>\n",
       "      <td>46</td>\n",
       "      <td>53</td>\n",
       "      <td>10</td>\n",
       "      <td>12</td>\n",
       "      <td>4</td>\n",
       "      <td>22</td>\n",
       "    </tr>\n",
       "    <tr>\n",
       "      <th>93351</th>\n",
       "      <td>93351</td>\n",
       "      <td>185328</td>\n",
       "      <td>185329</td>\n",
       "      <td>How can I improve my English in all aspects?</td>\n",
       "      <td>How can I improve my English speaking .?</td>\n",
       "      <td>1</td>\n",
       "      <td>44</td>\n",
       "      <td>40</td>\n",
       "      <td>9</td>\n",
       "      <td>8</td>\n",
       "      <td>6</td>\n",
       "      <td>17</td>\n",
       "    </tr>\n",
       "    <tr>\n",
       "      <th>85118</th>\n",
       "      <td>85118</td>\n",
       "      <td>169048</td>\n",
       "      <td>169049</td>\n",
       "      <td>Why is it that 1 litre of water weighs 1 kg wh...</td>\n",
       "      <td>If you drink 3 liters of water would you weigh...</td>\n",
       "      <td>0</td>\n",
       "      <td>87</td>\n",
       "      <td>57</td>\n",
       "      <td>18</td>\n",
       "      <td>13</td>\n",
       "      <td>3</td>\n",
       "      <td>28</td>\n",
       "    </tr>\n",
       "    <tr>\n",
       "      <th>201278</th>\n",
       "      <td>201278</td>\n",
       "      <td>397188</td>\n",
       "      <td>397189</td>\n",
       "      <td>Why didn't Native Americans make alcohol?</td>\n",
       "      <td>Why didn't the Japanese develop a deep-seated ...</td>\n",
       "      <td>0</td>\n",
       "      <td>41</td>\n",
       "      <td>123</td>\n",
       "      <td>6</td>\n",
       "      <td>18</td>\n",
       "      <td>3</td>\n",
       "      <td>23</td>\n",
       "    </tr>\n",
       "    <tr>\n",
       "      <th>323685</th>\n",
       "      <td>323685</td>\n",
       "      <td>634952</td>\n",
       "      <td>634953</td>\n",
       "      <td>I have an unopened bottle of vodka in the free...</td>\n",
       "      <td>Can an open bottle of vodka get spoiled? It is...</td>\n",
       "      <td>0</td>\n",
       "      <td>94</td>\n",
       "      <td>80</td>\n",
       "      <td>18</td>\n",
       "      <td>18</td>\n",
       "      <td>5</td>\n",
       "      <td>35</td>\n",
       "    </tr>\n",
       "  </tbody>\n",
       "</table>\n",
       "</div>"
      ],
      "text/plain": [
       "            id    qid1    qid2  \\\n",
       "316514  316514  621099  621100   \n",
       "93351    93351  185328  185329   \n",
       "85118    85118  169048  169049   \n",
       "201278  201278  397188  397189   \n",
       "323685  323685  634952  634953   \n",
       "\n",
       "                                                question1  \\\n",
       "316514     How do you decide what career is best for you?   \n",
       "93351        How can I improve my English in all aspects?   \n",
       "85118   Why is it that 1 litre of water weighs 1 kg wh...   \n",
       "201278          Why didn't Native Americans make alcohol?   \n",
       "323685  I have an unopened bottle of vodka in the free...   \n",
       "\n",
       "                                                question2  is_duplicate  \\\n",
       "316514  What is the best way to find a career which su...             1   \n",
       "93351            How can I improve my English speaking .?             1   \n",
       "85118   If you drink 3 liters of water would you weigh...             0   \n",
       "201278  Why didn't the Japanese develop a deep-seated ...             0   \n",
       "323685  Can an open bottle of vodka get spoiled? It is...             0   \n",
       "\n",
       "        q1_len  q2_len  q1_num_words  q2_num_words  word_common  word_total  \n",
       "316514      46      53            10            12            4          22  \n",
       "93351       44      40             9             8            6          17  \n",
       "85118       87      57            18            13            3          28  \n",
       "201278      41     123             6            18            3          23  \n",
       "323685      94      80            18            18            5          35  "
      ]
     },
     "execution_count": 75,
     "metadata": {},
     "output_type": "execute_result"
    }
   ],
   "source": [
    "new_df['word_total'] = new_df.apply(total_words, axis=1)\n",
    "new_df.head()\n"
   ]
  },
  {
   "cell_type": "code",
   "execution_count": 76,
   "id": "677c7db3",
   "metadata": {},
   "outputs": [
    {
     "data": {
      "text/html": [
       "<div>\n",
       "<style scoped>\n",
       "    .dataframe tbody tr th:only-of-type {\n",
       "        vertical-align: middle;\n",
       "    }\n",
       "\n",
       "    .dataframe tbody tr th {\n",
       "        vertical-align: top;\n",
       "    }\n",
       "\n",
       "    .dataframe thead th {\n",
       "        text-align: right;\n",
       "    }\n",
       "</style>\n",
       "<table border=\"1\" class=\"dataframe\">\n",
       "  <thead>\n",
       "    <tr style=\"text-align: right;\">\n",
       "      <th></th>\n",
       "      <th>id</th>\n",
       "      <th>qid1</th>\n",
       "      <th>qid2</th>\n",
       "      <th>question1</th>\n",
       "      <th>question2</th>\n",
       "      <th>is_duplicate</th>\n",
       "      <th>q1_len</th>\n",
       "      <th>q2_len</th>\n",
       "      <th>q1_num_words</th>\n",
       "      <th>q2_num_words</th>\n",
       "      <th>word_common</th>\n",
       "      <th>word_total</th>\n",
       "      <th>word_share</th>\n",
       "    </tr>\n",
       "  </thead>\n",
       "  <tbody>\n",
       "    <tr>\n",
       "      <th>316514</th>\n",
       "      <td>316514</td>\n",
       "      <td>621099</td>\n",
       "      <td>621100</td>\n",
       "      <td>How do you decide what career is best for you?</td>\n",
       "      <td>What is the best way to find a career which su...</td>\n",
       "      <td>1</td>\n",
       "      <td>46</td>\n",
       "      <td>53</td>\n",
       "      <td>10</td>\n",
       "      <td>12</td>\n",
       "      <td>4</td>\n",
       "      <td>22</td>\n",
       "      <td>0.18</td>\n",
       "    </tr>\n",
       "    <tr>\n",
       "      <th>93351</th>\n",
       "      <td>93351</td>\n",
       "      <td>185328</td>\n",
       "      <td>185329</td>\n",
       "      <td>How can I improve my English in all aspects?</td>\n",
       "      <td>How can I improve my English speaking .?</td>\n",
       "      <td>1</td>\n",
       "      <td>44</td>\n",
       "      <td>40</td>\n",
       "      <td>9</td>\n",
       "      <td>8</td>\n",
       "      <td>6</td>\n",
       "      <td>17</td>\n",
       "      <td>0.35</td>\n",
       "    </tr>\n",
       "    <tr>\n",
       "      <th>85118</th>\n",
       "      <td>85118</td>\n",
       "      <td>169048</td>\n",
       "      <td>169049</td>\n",
       "      <td>Why is it that 1 litre of water weighs 1 kg wh...</td>\n",
       "      <td>If you drink 3 liters of water would you weigh...</td>\n",
       "      <td>0</td>\n",
       "      <td>87</td>\n",
       "      <td>57</td>\n",
       "      <td>18</td>\n",
       "      <td>13</td>\n",
       "      <td>3</td>\n",
       "      <td>28</td>\n",
       "      <td>0.11</td>\n",
       "    </tr>\n",
       "    <tr>\n",
       "      <th>201278</th>\n",
       "      <td>201278</td>\n",
       "      <td>397188</td>\n",
       "      <td>397189</td>\n",
       "      <td>Why didn't Native Americans make alcohol?</td>\n",
       "      <td>Why didn't the Japanese develop a deep-seated ...</td>\n",
       "      <td>0</td>\n",
       "      <td>41</td>\n",
       "      <td>123</td>\n",
       "      <td>6</td>\n",
       "      <td>18</td>\n",
       "      <td>3</td>\n",
       "      <td>23</td>\n",
       "      <td>0.13</td>\n",
       "    </tr>\n",
       "    <tr>\n",
       "      <th>323685</th>\n",
       "      <td>323685</td>\n",
       "      <td>634952</td>\n",
       "      <td>634953</td>\n",
       "      <td>I have an unopened bottle of vodka in the free...</td>\n",
       "      <td>Can an open bottle of vodka get spoiled? It is...</td>\n",
       "      <td>0</td>\n",
       "      <td>94</td>\n",
       "      <td>80</td>\n",
       "      <td>18</td>\n",
       "      <td>18</td>\n",
       "      <td>5</td>\n",
       "      <td>35</td>\n",
       "      <td>0.14</td>\n",
       "    </tr>\n",
       "  </tbody>\n",
       "</table>\n",
       "</div>"
      ],
      "text/plain": [
       "            id    qid1    qid2  \\\n",
       "316514  316514  621099  621100   \n",
       "93351    93351  185328  185329   \n",
       "85118    85118  169048  169049   \n",
       "201278  201278  397188  397189   \n",
       "323685  323685  634952  634953   \n",
       "\n",
       "                                                question1  \\\n",
       "316514     How do you decide what career is best for you?   \n",
       "93351        How can I improve my English in all aspects?   \n",
       "85118   Why is it that 1 litre of water weighs 1 kg wh...   \n",
       "201278          Why didn't Native Americans make alcohol?   \n",
       "323685  I have an unopened bottle of vodka in the free...   \n",
       "\n",
       "                                                question2  is_duplicate  \\\n",
       "316514  What is the best way to find a career which su...             1   \n",
       "93351            How can I improve my English speaking .?             1   \n",
       "85118   If you drink 3 liters of water would you weigh...             0   \n",
       "201278  Why didn't the Japanese develop a deep-seated ...             0   \n",
       "323685  Can an open bottle of vodka get spoiled? It is...             0   \n",
       "\n",
       "        q1_len  q2_len  q1_num_words  q2_num_words  word_common  word_total  \\\n",
       "316514      46      53            10            12            4          22   \n",
       "93351       44      40             9             8            6          17   \n",
       "85118       87      57            18            13            3          28   \n",
       "201278      41     123             6            18            3          23   \n",
       "323685      94      80            18            18            5          35   \n",
       "\n",
       "        word_share  \n",
       "316514        0.18  \n",
       "93351         0.35  \n",
       "85118         0.11  \n",
       "201278        0.13  \n",
       "323685        0.14  "
      ]
     },
     "execution_count": 76,
     "metadata": {},
     "output_type": "execute_result"
    }
   ],
   "source": [
    "new_df['word_share'] = round(new_df['word_common']/new_df['word_total'],2)\n",
    "new_df.head()"
   ]
  },
  {
   "cell_type": "code",
   "execution_count": 77,
   "id": "5aa336c7",
   "metadata": {},
   "outputs": [
    {
     "name": "stdout",
     "output_type": "stream",
     "text": [
      "minimum characters 1\n",
      "maximum characters 350\n",
      "average num of characters 59\n"
     ]
    },
    {
     "data": {
      "image/png": "[encoded data removed]",
      "text/plain": [
       "<Figure size 500x500 with 1 Axes>"
      ]
     },
     "metadata": {},
     "output_type": "display_data"
    }
   ],
   "source": [
    "# Analysis of features\n",
    "sns.displot(new_df['q1_len'])\n",
    "print('minimum characters',new_df['q1_len'].min())\n",
    "print('maximum characters',new_df['q1_len'].max())\n",
    "print('average num of characters',int(new_df['q1_len'].mean()))"
   ]
  },
  {
   "cell_type": "code",
   "execution_count": 78,
   "id": "40bbfcc2",
   "metadata": {},
   "outputs": [
    {
     "name": "stdout",
     "output_type": "stream",
     "text": [
      "minimum characters 2\n",
      "maximum characters 1169\n",
      "average num of characters 60\n"
     ]
    },
    {
     "data": {
      "image/png": "[encoded data removed]",
      "text/plain": [
       "<Figure size 500x500 with 1 Axes>"
      ]
     },
     "metadata": {},
     "output_type": "display_data"
    }
   ],
   "source": [
    "sns.displot(new_df['q2_len'])\n",
    "print('minimum characters',new_df['q2_len'].min())\n",
    "print('maximum characters',new_df['q2_len'].max())\n",
    "print('average num of characters',int(new_df['q2_len'].mean()))"
   ]
  },
  {
   "cell_type": "code",
   "execution_count": 79,
   "id": "e3eb90a4",
   "metadata": {},
   "outputs": [
    {
     "name": "stdout",
     "output_type": "stream",
     "text": [
      "minimum words 1\n",
      "maximum words 73\n",
      "average num of words 10\n"
     ]
    },
    {
     "data": {
      "image/png": "[encoded data removed]",
      "text/plain": [
       "<Figure size 500x500 with 1 Axes>"
      ]
     },
     "metadata": {},
     "output_type": "display_data"
    }
   ],
   "source": [
    "sns.displot(new_df['q1_num_words'])\n",
    "print('minimum words',new_df['q1_num_words'].min())\n",
    "print('maximum words',new_df['q1_num_words'].max())\n",
    "print('average num of words',int(new_df['q1_num_words'].mean()))"
   ]
  },
  {
   "cell_type": "code",
   "execution_count": 80,
   "id": "ca7b45ec",
   "metadata": {},
   "outputs": [
    {
     "name": "stdout",
     "output_type": "stream",
     "text": [
      "minimum words 1\n",
      "maximum words 237\n",
      "average num of words 11\n"
     ]
    },
    {
     "data": {
      "image/png": "[encoded data removed]",
      "text/plain": [
       "<Figure size 500x500 with 1 Axes>"
      ]
     },
     "metadata": {},
     "output_type": "display_data"
    }
   ],
   "source": [
    "sns.displot(new_df['q2_num_words'])\n",
    "print('minimum words',new_df['q2_num_words'].min())\n",
    "print('maximum words',new_df['q2_num_words'].max())\n",
    "print('average num of words',int(new_df['q2_num_words'].mean()))"
   ]
  },
  {
   "cell_type": "code",
   "execution_count": 81,
   "id": "01f7afe3",
   "metadata": {},
   "outputs": [
    {
     "data": {
      "image/png": "[encoded data removed]",
      "text/plain": [
       "<Figure size 640x480 with 1 Axes>"
      ]
     },
     "metadata": {},
     "output_type": "display_data"
    }
   ],
   "source": [
    "# common words\n",
    "sns.distplot(new_df[new_df['is_duplicate'] == 0]['word_common'],label='non duplicate')\n",
    "sns.distplot(new_df[new_df['is_duplicate'] == 1]['word_common'],label='duplicate')\n",
    "plt.legend()\n",
    "plt.show()"
   ]
  },
  {
   "cell_type": "code",
   "execution_count": 82,
   "id": "85be5cf5",
   "metadata": {},
   "outputs": [
    {
     "data": {
      "image/png": "[encoded data removed]",
      "text/plain": [
       "<Figure size 640x480 with 1 Axes>"
      ]
     },
     "metadata": {},
     "output_type": "display_data"
    }
   ],
   "source": [
    "# total words\n",
    "sns.distplot(new_df[new_df['is_duplicate'] == 0]['word_total'],label='non duplicate')\n",
    "sns.distplot(new_df[new_df['is_duplicate'] == 1]['word_total'],label='duplicate')\n",
    "plt.legend()\n",
    "plt.show()"
   ]
  },
  {
   "cell_type": "code",
   "execution_count": 83,
   "id": "94d5e0ea",
   "metadata": {},
   "outputs": [
    {
     "data": {
      "image/png": "[encoded data removed]",
      "text/plain": [
       "<Figure size 640x480 with 1 Axes>"
      ]
     },
     "metadata": {},
     "output_type": "display_data"
    }
   ],
   "source": [
    "# word share\n",
    "sns.distplot(new_df[new_df['is_duplicate'] == 0]['word_share'],label='non duplicate')\n",
    "sns.distplot(new_df[new_df['is_duplicate'] == 1]['word_share'],label='duplicate')\n",
    "plt.legend()\n",
    "plt.show()"
   ]
  },
  {
   "cell_type": "code",
   "execution_count": 84,
   "id": "e7690b8c",
   "metadata": {},
   "outputs": [
    {
     "data": {
      "text/html": [
       "<div>\n",
       "<style scoped>\n",
       "    .dataframe tbody tr th:only-of-type {\n",
       "        vertical-align: middle;\n",
       "    }\n",
       "\n",
       "    .dataframe tbody tr th {\n",
       "        vertical-align: top;\n",
       "    }\n",
       "\n",
       "    .dataframe thead th {\n",
       "        text-align: right;\n",
       "    }\n",
       "</style>\n",
       "<table border=\"1\" class=\"dataframe\">\n",
       "  <thead>\n",
       "    <tr style=\"text-align: right;\">\n",
       "      <th></th>\n",
       "      <th>question1</th>\n",
       "      <th>question2</th>\n",
       "    </tr>\n",
       "  </thead>\n",
       "  <tbody>\n",
       "    <tr>\n",
       "      <th>316514</th>\n",
       "      <td>How do you decide what career is best for you?</td>\n",
       "      <td>What is the best way to find a career which su...</td>\n",
       "    </tr>\n",
       "    <tr>\n",
       "      <th>93351</th>\n",
       "      <td>How can I improve my English in all aspects?</td>\n",
       "      <td>How can I improve my English speaking .?</td>\n",
       "    </tr>\n",
       "    <tr>\n",
       "      <th>85118</th>\n",
       "      <td>Why is it that 1 litre of water weighs 1 kg wh...</td>\n",
       "      <td>If you drink 3 liters of water would you weigh...</td>\n",
       "    </tr>\n",
       "    <tr>\n",
       "      <th>201278</th>\n",
       "      <td>Why didn't Native Americans make alcohol?</td>\n",
       "      <td>Why didn't the Japanese develop a deep-seated ...</td>\n",
       "    </tr>\n",
       "    <tr>\n",
       "      <th>323685</th>\n",
       "      <td>I have an unopened bottle of vodka in the free...</td>\n",
       "      <td>Can an open bottle of vodka get spoiled? It is...</td>\n",
       "    </tr>\n",
       "  </tbody>\n",
       "</table>\n",
       "</div>"
      ],
      "text/plain": [
       "                                                question1  \\\n",
       "316514     How do you decide what career is best for you?   \n",
       "93351        How can I improve my English in all aspects?   \n",
       "85118   Why is it that 1 litre of water weighs 1 kg wh...   \n",
       "201278          Why didn't Native Americans make alcohol?   \n",
       "323685  I have an unopened bottle of vodka in the free...   \n",
       "\n",
       "                                                question2  \n",
       "316514  What is the best way to find a career which su...  \n",
       "93351            How can I improve my English speaking .?  \n",
       "85118   If you drink 3 liters of water would you weigh...  \n",
       "201278  Why didn't the Japanese develop a deep-seated ...  \n",
       "323685  Can an open bottle of vodka get spoiled? It is...  "
      ]
     },
     "execution_count": 84,
     "metadata": {},
     "output_type": "execute_result"
    }
   ],
   "source": [
    "ques_df = new_df[['question1','question2']]\n",
    "ques_df.head()"
   ]
  },
  {
   "cell_type": "code",
   "execution_count": 85,
   "id": "b9ae4a4c",
   "metadata": {},
   "outputs": [
    {
     "name": "stdout",
     "output_type": "stream",
     "text": [
      "(99999, 8)\n"
     ]
    },
    {
     "data": {
      "text/html": [
       "<div>\n",
       "<style scoped>\n",
       "    .dataframe tbody tr th:only-of-type {\n",
       "        vertical-align: middle;\n",
       "    }\n",
       "\n",
       "    .dataframe tbody tr th {\n",
       "        vertical-align: top;\n",
       "    }\n",
       "\n",
       "    .dataframe thead th {\n",
       "        text-align: right;\n",
       "    }\n",
       "</style>\n",
       "<table border=\"1\" class=\"dataframe\">\n",
       "  <thead>\n",
       "    <tr style=\"text-align: right;\">\n",
       "      <th></th>\n",
       "      <th>is_duplicate</th>\n",
       "      <th>q1_len</th>\n",
       "      <th>q2_len</th>\n",
       "      <th>q1_num_words</th>\n",
       "      <th>q2_num_words</th>\n",
       "      <th>word_common</th>\n",
       "      <th>word_total</th>\n",
       "      <th>word_share</th>\n",
       "    </tr>\n",
       "  </thead>\n",
       "  <tbody>\n",
       "    <tr>\n",
       "      <th>316514</th>\n",
       "      <td>1</td>\n",
       "      <td>46</td>\n",
       "      <td>53</td>\n",
       "      <td>10</td>\n",
       "      <td>12</td>\n",
       "      <td>4</td>\n",
       "      <td>22</td>\n",
       "      <td>0.18</td>\n",
       "    </tr>\n",
       "    <tr>\n",
       "      <th>93351</th>\n",
       "      <td>1</td>\n",
       "      <td>44</td>\n",
       "      <td>40</td>\n",
       "      <td>9</td>\n",
       "      <td>8</td>\n",
       "      <td>6</td>\n",
       "      <td>17</td>\n",
       "      <td>0.35</td>\n",
       "    </tr>\n",
       "    <tr>\n",
       "      <th>85118</th>\n",
       "      <td>0</td>\n",
       "      <td>87</td>\n",
       "      <td>57</td>\n",
       "      <td>18</td>\n",
       "      <td>13</td>\n",
       "      <td>3</td>\n",
       "      <td>28</td>\n",
       "      <td>0.11</td>\n",
       "    </tr>\n",
       "    <tr>\n",
       "      <th>201278</th>\n",
       "      <td>0</td>\n",
       "      <td>41</td>\n",
       "      <td>123</td>\n",
       "      <td>6</td>\n",
       "      <td>18</td>\n",
       "      <td>3</td>\n",
       "      <td>23</td>\n",
       "      <td>0.13</td>\n",
       "    </tr>\n",
       "    <tr>\n",
       "      <th>323685</th>\n",
       "      <td>0</td>\n",
       "      <td>94</td>\n",
       "      <td>80</td>\n",
       "      <td>18</td>\n",
       "      <td>18</td>\n",
       "      <td>5</td>\n",
       "      <td>35</td>\n",
       "      <td>0.14</td>\n",
       "    </tr>\n",
       "  </tbody>\n",
       "</table>\n",
       "</div>"
      ],
      "text/plain": [
       "        is_duplicate  q1_len  q2_len  q1_num_words  q2_num_words  word_common  \\\n",
       "316514             1      46      53            10            12            4   \n",
       "93351              1      44      40             9             8            6   \n",
       "85118              0      87      57            18            13            3   \n",
       "201278             0      41     123             6            18            3   \n",
       "323685             0      94      80            18            18            5   \n",
       "\n",
       "        word_total  word_share  \n",
       "316514          22        0.18  \n",
       "93351           17        0.35  \n",
       "85118           28        0.11  \n",
       "201278          23        0.13  \n",
       "323685          35        0.14  "
      ]
     },
     "execution_count": 85,
     "metadata": {},
     "output_type": "execute_result"
    }
   ],
   "source": [
    "final_df = new_df.drop(columns=['id','qid1','qid2','question1','question2'])\n",
    "print(final_df.shape)\n",
    "final_df.head()"
   ]
  },
  {
   "cell_type": "code",
   "execution_count": 86,
   "id": "e6338858",
   "metadata": {},
   "outputs": [],
   "source": [
    "from sklearn.feature_extraction.text import CountVectorizer\n",
    "# merge texts\n",
    "questions = list(ques_df['question1']) + list(ques_df['question2'])\n",
    "\n",
    "cv = CountVectorizer(max_features=3000)\n",
    "q1_arr, q2_arr = np.vsplit(cv.fit_transform(questions).toarray(),2) #60000x3000 ki array hogi isme har row ek question ko represent karegi, and vsplit se 2 parts me split karenge so q1_arr me pehle 30000 questions ke vector honge and q2_arr me baaki 30000 questions ke vector honge"
   ]
  },
  {
   "cell_type": "code",
   "execution_count": 87,
   "id": "c7be6cec",
   "metadata": {},
   "outputs": [
    {
     "data": {
      "text/plain": [
       "(99999, 6000)"
      ]
     },
     "execution_count": 87,
     "metadata": {},
     "output_type": "execute_result"
    }
   ],
   "source": [
    "temp_df1 = pd.DataFrame(q1_arr, index= ques_df.index)\n",
    "temp_df2 = pd.DataFrame(q2_arr, index= ques_df.index)\n",
    "temp_df = pd.concat([temp_df1, temp_df2], axis=1)\n",
    "temp_df.shape"
   ]
  },
  {
   "cell_type": "code",
   "execution_count": 88,
   "id": "4b39acb7",
   "metadata": {},
   "outputs": [
    {
     "name": "stdout",
     "output_type": "stream",
     "text": [
      "(99999, 6008)\n"
     ]
    },
    {
     "data": {
      "text/html": [
       "<div>\n",
       "<style scoped>\n",
       "    .dataframe tbody tr th:only-of-type {\n",
       "        vertical-align: middle;\n",
       "    }\n",
       "\n",
       "    .dataframe tbody tr th {\n",
       "        vertical-align: top;\n",
       "    }\n",
       "\n",
       "    .dataframe thead th {\n",
       "        text-align: right;\n",
       "    }\n",
       "</style>\n",
       "<table border=\"1\" class=\"dataframe\">\n",
       "  <thead>\n",
       "    <tr style=\"text-align: right;\">\n",
       "      <th></th>\n",
       "      <th>is_duplicate</th>\n",
       "      <th>q1_len</th>\n",
       "      <th>q2_len</th>\n",
       "      <th>q1_num_words</th>\n",
       "      <th>q2_num_words</th>\n",
       "      <th>word_common</th>\n",
       "      <th>word_total</th>\n",
       "      <th>word_share</th>\n",
       "      <th>0</th>\n",
       "      <th>1</th>\n",
       "      <th>...</th>\n",
       "      <th>2990</th>\n",
       "      <th>2991</th>\n",
       "      <th>2992</th>\n",
       "      <th>2993</th>\n",
       "      <th>2994</th>\n",
       "      <th>2995</th>\n",
       "      <th>2996</th>\n",
       "      <th>2997</th>\n",
       "      <th>2998</th>\n",
       "      <th>2999</th>\n",
       "    </tr>\n",
       "  </thead>\n",
       "  <tbody>\n",
       "    <tr>\n",
       "      <th>316514</th>\n",
       "      <td>1</td>\n",
       "      <td>46</td>\n",
       "      <td>53</td>\n",
       "      <td>10</td>\n",
       "      <td>12</td>\n",
       "      <td>4</td>\n",
       "      <td>22</td>\n",
       "      <td>0.18</td>\n",
       "      <td>0</td>\n",
       "      <td>0</td>\n",
       "      <td>...</td>\n",
       "      <td>0</td>\n",
       "      <td>0</td>\n",
       "      <td>0</td>\n",
       "      <td>0</td>\n",
       "      <td>0</td>\n",
       "      <td>0</td>\n",
       "      <td>0</td>\n",
       "      <td>0</td>\n",
       "      <td>0</td>\n",
       "      <td>0</td>\n",
       "    </tr>\n",
       "    <tr>\n",
       "      <th>93351</th>\n",
       "      <td>1</td>\n",
       "      <td>44</td>\n",
       "      <td>40</td>\n",
       "      <td>9</td>\n",
       "      <td>8</td>\n",
       "      <td>6</td>\n",
       "      <td>17</td>\n",
       "      <td>0.35</td>\n",
       "      <td>0</td>\n",
       "      <td>0</td>\n",
       "      <td>...</td>\n",
       "      <td>0</td>\n",
       "      <td>0</td>\n",
       "      <td>0</td>\n",
       "      <td>0</td>\n",
       "      <td>0</td>\n",
       "      <td>0</td>\n",
       "      <td>0</td>\n",
       "      <td>0</td>\n",
       "      <td>0</td>\n",
       "      <td>0</td>\n",
       "    </tr>\n",
       "    <tr>\n",
       "      <th>85118</th>\n",
       "      <td>0</td>\n",
       "      <td>87</td>\n",
       "      <td>57</td>\n",
       "      <td>18</td>\n",
       "      <td>13</td>\n",
       "      <td>3</td>\n",
       "      <td>28</td>\n",
       "      <td>0.11</td>\n",
       "      <td>0</td>\n",
       "      <td>0</td>\n",
       "      <td>...</td>\n",
       "      <td>0</td>\n",
       "      <td>0</td>\n",
       "      <td>0</td>\n",
       "      <td>2</td>\n",
       "      <td>0</td>\n",
       "      <td>0</td>\n",
       "      <td>0</td>\n",
       "      <td>0</td>\n",
       "      <td>0</td>\n",
       "      <td>0</td>\n",
       "    </tr>\n",
       "    <tr>\n",
       "      <th>201278</th>\n",
       "      <td>0</td>\n",
       "      <td>41</td>\n",
       "      <td>123</td>\n",
       "      <td>6</td>\n",
       "      <td>18</td>\n",
       "      <td>3</td>\n",
       "      <td>23</td>\n",
       "      <td>0.13</td>\n",
       "      <td>0</td>\n",
       "      <td>0</td>\n",
       "      <td>...</td>\n",
       "      <td>0</td>\n",
       "      <td>0</td>\n",
       "      <td>0</td>\n",
       "      <td>0</td>\n",
       "      <td>0</td>\n",
       "      <td>0</td>\n",
       "      <td>0</td>\n",
       "      <td>0</td>\n",
       "      <td>0</td>\n",
       "      <td>0</td>\n",
       "    </tr>\n",
       "    <tr>\n",
       "      <th>323685</th>\n",
       "      <td>0</td>\n",
       "      <td>94</td>\n",
       "      <td>80</td>\n",
       "      <td>18</td>\n",
       "      <td>18</td>\n",
       "      <td>5</td>\n",
       "      <td>35</td>\n",
       "      <td>0.14</td>\n",
       "      <td>0</td>\n",
       "      <td>0</td>\n",
       "      <td>...</td>\n",
       "      <td>0</td>\n",
       "      <td>0</td>\n",
       "      <td>0</td>\n",
       "      <td>0</td>\n",
       "      <td>0</td>\n",
       "      <td>0</td>\n",
       "      <td>0</td>\n",
       "      <td>0</td>\n",
       "      <td>0</td>\n",
       "      <td>0</td>\n",
       "    </tr>\n",
       "  </tbody>\n",
       "</table>\n",
       "<p>5 rows × 6008 columns</p>\n",
       "</div>"
      ],
      "text/plain": [
       "        is_duplicate  q1_len  q2_len  q1_num_words  q2_num_words  word_common  \\\n",
       "316514             1      46      53            10            12            4   \n",
       "93351              1      44      40             9             8            6   \n",
       "85118              0      87      57            18            13            3   \n",
       "201278             0      41     123             6            18            3   \n",
       "323685             0      94      80            18            18            5   \n",
       "\n",
       "        word_total  word_share  0  1  ...  2990  2991  2992  2993  2994  2995  \\\n",
       "316514          22        0.18  0  0  ...     0     0     0     0     0     0   \n",
       "93351           17        0.35  0  0  ...     0     0     0     0     0     0   \n",
       "85118           28        0.11  0  0  ...     0     0     0     2     0     0   \n",
       "201278          23        0.13  0  0  ...     0     0     0     0     0     0   \n",
       "323685          35        0.14  0  0  ...     0     0     0     0     0     0   \n",
       "\n",
       "        2996  2997  2998  2999  \n",
       "316514     0     0     0     0  \n",
       "93351      0     0     0     0  \n",
       "85118      0     0     0     0  \n",
       "201278     0     0     0     0  \n",
       "323685     0     0     0     0  \n",
       "\n",
       "[5 rows x 6008 columns]"
      ]
     },
     "execution_count": 88,
     "metadata": {},
     "output_type": "execute_result"
    }
   ],
   "source": [
    "final_df = pd.concat([final_df, temp_df], axis=1)\n",
    "print(final_df.shape)\n",
    "final_df.head()"
   ]
  },
  {
   "cell_type": "code",
   "execution_count": 89,
   "id": "0b8e20f5",
   "metadata": {},
   "outputs": [],
   "source": [
    "from sklearn.model_selection import train_test_split\n",
    "X_train,X_test,y_train,y_test = train_test_split(final_df.iloc[:,1:].values,final_df.iloc[:,0].values,test_size=0.2,random_state=1)"
   ]
  },
  {
   "cell_type": "code",
   "execution_count": 90,
   "id": "36545ab1",
   "metadata": {},
   "outputs": [
    {
     "data": {
      "text/plain": [
       "0.7946"
      ]
     },
     "execution_count": 90,
     "metadata": {},
     "output_type": "execute_result"
    }
   ],
   "source": [
    "from sklearn.ensemble import RandomForestClassifier\n",
    "from sklearn.metrics import accuracy_score\n",
    "rf = RandomForestClassifier()\n",
    "rf.fit(X_train,y_train)\n",
    "y_pred = rf.predict(X_test)\n",
    "accuracy_score(y_test,y_pred)"
   ]
  },
  {
   "cell_type": "code",
   "execution_count": 94,
   "id": "909f91ea",
   "metadata": {},
   "outputs": [],
   "source": [
    "# save the model\n",
    "import pickle\n",
    "pickle.dump(rf, open('model1.pkl','wb'))"
   ]
  },
  {
   "cell_type": "code",
   "execution_count": 96,
   "id": "e30b6dd1",
   "metadata": {},
   "outputs": [],
   "source": [
    "pickle.dump(cv, open('count_vectorizer.pkl', 'wb'))"
   ]
  },
  {
   "cell_type": "code",
   "execution_count": 91,
   "id": "4579eb5a",
   "metadata": {},
   "outputs": [
    {
     "name": "stdout",
     "output_type": "stream",
     "text": [
      "[[11248  1388]\n",
      " [ 2720  4644]]\n"
     ]
    }
   ],
   "source": [
    "# print confusion matrix\n",
    "from sklearn.metrics import confusion_matrix\n",
    "cm = confusion_matrix(y_test,y_pred)\n",
    "print(cm)"
   ]
  },
  {
   "cell_type": "code",
   "execution_count": 92,
   "id": "16b13c21",
   "metadata": {},
   "outputs": [
    {
     "data": {
      "text/plain": [
       "0.778"
      ]
     },
     "execution_count": 92,
     "metadata": {},
     "output_type": "execute_result"
    }
   ],
   "source": [
    "from xgboost import XGBClassifier\n",
    "xgb = XGBClassifier()\n",
    "xgb.fit(X_train,y_train)\n",
    "y_pred = xgb.predict(X_test)\n",
    "accuracy_score(y_test,y_pred)"
   ]
  },
  {
   "cell_type": "code",
   "execution_count": 93,
   "id": "1365781b",
   "metadata": {},
   "outputs": [
    {
     "name": "stdout",
     "output_type": "stream",
     "text": [
      "[[10369  2267]\n",
      " [ 2173  5191]]\n"
     ]
    }
   ],
   "source": [
    "# print confusion matrix\n",
    "from sklearn.metrics import confusion_matrix\n",
    "cm = confusion_matrix(y_test,y_pred)\n",
    "print(cm)"
   ]
  },
  {
   "cell_type": "code",
   "execution_count": 95,
   "id": "fdd0bfad",
   "metadata": {},
   "outputs": [],
   "source": [
    "pickle.dump(xgb, open('model2.pkl','wb'))"
   ]
  }
 ],
 "metadata": {
  "kernelspec": {
   "display_name": "Python 3",
   "language": "python",
   "name": "python3"
  },
  "language_info": {
   "codemirror_mode": {
    "name": "ipython",
    "version": 3
   },
   "file_extension": ".py",
   "mimetype": "text/x-python",
   "name": "python",
   "nbconvert_exporter": "python",
   "pygments_lexer": "ipython3",
   "version": "3.11.9"
  }
 },
 "nbformat": 4,
 "nbformat_minor": 5
}
